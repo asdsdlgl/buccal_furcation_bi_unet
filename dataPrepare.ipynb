{
 "cells": [
  {
   "cell_type": "code",
   "execution_count": 21,
   "metadata": {},
   "outputs": [],
   "source": [
    "from data import *"
   ]
  },
  {
   "cell_type": "markdown",
   "metadata": {},
   "source": [
    "# data augmentation \n",
    "\n",
    "In deep learning tasks, a lot of data is need to train DNN model, when the dataset is not big enough, data augmentation should be applied.\n",
    "\n",
    "keras.preprocessing.image.ImageDataGenerator is a data generator, which can feed the DNN with data like : (data,label), it can also do data augmentation at the same time.\n",
    "\n",
    "It is very convenient for us to use keras.preprocessing.image.ImageDataGenerator to do data augmentation by implement image rotation, shift, rescale and so on... see [keras documentation](https://keras.io/preprocessing/image/) for detail.\n",
    "\n",
    "For image segmentation tasks, the image and mask must be transformed **together!!**"
   ]
  },
  {
   "cell_type": "markdown",
   "metadata": {},
   "source": [
    "## define your data generator\n",
    "\n",
    "If you want to visualize your data augmentation result, set save_to_dir = your path"
   ]
  },
  {
   "cell_type": "code",
   "execution_count": 26,
   "metadata": {},
   "outputs": [],
   "source": [
    "train_parent_folder = '/home/jingping/aiforge/tooth_xray_segmention_for_test/unet_base/dataset/buccal_furcation_train/split101and20'\n",
    "aug_path = '/home/jingping/aiforge/tooth_xray_segmention_for_test/unet_base/dataset/buccal_furcation_train/split101and20/aug/'"
   ]
  },
  {
   "cell_type": "code",
   "execution_count": 27,
   "metadata": {},
   "outputs": [],
   "source": [
    "#if you don't want to do data augmentation, set data_gen_args as an empty dict.\n",
    "#data_gen_args = dict()\n",
    "\n",
    "\n",
    "data_gen_args = dict(rotation_range=0.2,\n",
    "                    width_shift_range=0.05,\n",
    "                    height_shift_range=0.05,\n",
    "                    shear_range=0.05,\n",
    "                    zoom_range=0.05,\n",
    "                    horizontal_flip=True,\n",
    "                    fill_mode='nearest')\n",
    "myGenerator = trainGenerator(20,train_parent_folder,'image','label',data_gen_args,save_to_dir = aug_path)\n",
    "\n"
   ]
  },
  {
   "cell_type": "markdown",
   "metadata": {},
   "source": [
    "## visualize your data augmentation result"
   ]
  },
  {
   "cell_type": "code",
   "execution_count": 28,
   "metadata": {},
   "outputs": [
    {
     "name": "stdout",
     "output_type": "stream",
     "text": [
      "Found 101 images belonging to 1 classes.\n",
      "Found 101 images belonging to 1 classes.\n"
     ]
    }
   ],
   "source": [
    "#you will see 60 transformed images and their masks in data/membrane/train/aug\n",
    "num_batch = 3\n",
    "for i,batch in enumerate(myGenerator):\n",
    "    if(i >= num_batch):\n",
    "        break"
   ]
  },
  {
   "cell_type": "markdown",
   "metadata": {},
   "source": [
    "## create .npy data\n",
    "\n",
    "If your computer has enough memory, you can create npy files containing all your images and masks, and feed your DNN with them."
   ]
  },
  {
   "cell_type": "code",
   "execution_count": 29,
   "metadata": {},
   "outputs": [],
   "source": [
    "image_arr,mask_arr = geneTrainNpy(aug_path,aug_path)"
   ]
  },
  {
   "cell_type": "code",
   "execution_count": null,
   "metadata": {},
   "outputs": [],
   "source": []
  },
  {
   "cell_type": "code",
   "execution_count": 1,
   "metadata": {},
   "outputs": [],
   "source": [
    "# import cv2\n",
    "# import numpy as np\n",
    "# import matplotlib.pyplot as plt\n",
    "\n",
    "# img_path = '/home/jingping/aiforge/tooth_countour/tooth_PBL_detection/patient_folder/016057 082113 x/NN_130821_154626_C03535.PNG'\n",
    "\n",
    "# img = cv2.imread(img_path,0)\n",
    "# equ = cv2.equalizeHist(img)\n",
    "# res = np.hstack((img,equ)) #stacking images side-by-side\n",
    "# #cv.imwrite('res.png',res)\n",
    "\n",
    "\n",
    "# # create a CLAHE object (Arguments are optional).\n",
    "# clahe = cv2.createCLAHE(clipLimit=2.0, tileGridSize=(8,8))\n",
    "# cl1 = clahe.apply(img)\n",
    "# #cv.imwrite('clahe_2.jpg',cl1)\n",
    "\n",
    "# plt.figure(figsize = (20,20))\n",
    "# plt.subplot(1,3,1)\n",
    "# plt.imshow(img,cmap='gray')\n",
    "# plt.subplot(1,3,2)\n",
    "# plt.imshow(equ,cmap='gray')\n",
    "# plt.subplot(1,3,3)\n",
    "# plt.imshow(cl1,cmap='gray')\n",
    "# plt.show()\n",
    "\n",
    "# add1 = cv2.addWeighted(img,0.5,equ,0.5,0)\n",
    "# add2 = cv2.addWeighted(img,0.5,cl1,0.5,0)\n",
    "# add3 = cv2.addWeighted(cl1,0.5,equ,0.5,0)\n",
    "\n",
    "# plt.figure(figsize = (20,20))\n",
    "# plt.subplot(1,3,1)\n",
    "# plt.imshow(add1,cmap='gray')\n",
    "# plt.subplot(1,3,2)\n",
    "# plt.imshow(add2,cmap='gray')\n",
    "# plt.subplot(1,3,3)\n",
    "# plt.imshow(add3,cmap='gray')\n",
    "# plt.show()"
   ]
  },
  {
   "cell_type": "code",
   "execution_count": 2,
   "metadata": {},
   "outputs": [],
   "source": [
    "# #data with \n",
    "# import os \n",
    "# import shutil\n",
    "\n",
    "# original_folder_path = '/home/jingping/aiforge/tooth_xray_segmention_for_test/unet_base/dataset/buccal_furcation_data'\n",
    "# label_save_folder_path = '/home/jingping/aiforge/tooth_xray_segmention_for_test/unet_base/dataset/buccal_furcation_train/label'\n",
    "# img_save_folder_path = '/home/jingping/aiforge/tooth_xray_segmention_for_test/unet_base/dataset/buccal_furcation_train/image'\n",
    "\n",
    "# for file_name in os.listdir(original_folder_path):\n",
    "#     #print(file_name[-9:-4])\n",
    "#     if file_name[-9:-4] == 'paint' or file_name[-9:-4] == 'PAINT':\n",
    "#         shutil.move(os.path.join(original_folder_path, file_name), label_save_folder_path)\n",
    "#     else:\n",
    "#         shutil.move(os.path.join(original_folder_path, file_name), img_save_folder_path)\n",
    "    \n",
    "#     if os.path.isdir(os.path.join(path, file_name)):\n",
    "#         print(os.path.join(path, file_name))\n",
    "#         print('++')\n",
    "#         #shutil.move(path, path)\n",
    "#         #shutil.rmtree(os.path.join(path, file_name))"
   ]
  },
  {
   "cell_type": "code",
   "execution_count": 4,
   "metadata": {},
   "outputs": [],
   "source": [
    "# def to_mask(img):\n",
    "#     black = np.array([0, 0, 0])\n",
    "#     white = np.array([255, 255, 255])\n",
    "#     r1 = np.array([0, 14, 255])\n",
    "#     r2 = np.array([36, 28, 237])\n",
    "#     for i in range(img.shape[0]):\n",
    "#         for j in range(img.shape[1]):\n",
    "#             if (img[i][j] == r1).sum() == 3 or (img[i][j] == r2).sum() == 3 :\n",
    "#                 img[i][j] = white\n",
    "#             else:\n",
    "#                 img[i][j] = black\n",
    "#                 pass\n",
    "#     return img"
   ]
  },
  {
   "cell_type": "code",
   "execution_count": 5,
   "metadata": {},
   "outputs": [],
   "source": [
    "# import os \n",
    "# import cv2\n",
    "# import shutil\n",
    "# import numpy as np\n",
    "# import matplotlib.pyplot as plt\n",
    "\n",
    "# from tqdm import tqdm\n",
    "\n",
    "# path = '/home/jingping/aiforge/tooth_xray_segmention_for_test/unet_base/dataset/buccal_furcation_train/o_image'\n",
    "# save_path = '/home/jingping/aiforge/tooth_xray_segmention_for_test/unet_base/dataset/buccal_furcation_train/image'\n",
    "\n",
    "# for file_name in tqdm(os.listdir(path), total=len(os.listdir(path))):\n",
    "#     try:\n",
    "#         img = cv2.imread(os.path.join(path, file_name))\n",
    "#         img = cv2.resize(img,(256,256))\n",
    "#         cv2.imwrite(save_path+'/{}'.format(file_name), img)\n",
    "#     except:\n",
    "#         print(file_name)\n",
    "#     if os.path.isdir(os.path.join(path, file_name)):\n",
    "#         print(os.path.join(path, file_name))\n",
    "#         #shutil.move(path, path)\n",
    "#         shutil.rmtree(os.path.join(path, file_name))"
   ]
  },
  {
   "cell_type": "code",
   "execution_count": 25,
   "metadata": {},
   "outputs": [
    {
     "name": "stderr",
     "output_type": "stream",
     "text": [
      "100%|██████████| 177/177 [00:00<00:00, 88654.38it/s]\n"
     ]
    }
   ],
   "source": [
    "# import os \n",
    "# import shutil\n",
    "\n",
    "# from tqdm import tqdm\n",
    "\n",
    "# path = '/home/jingping/aiforge/tooth_xray_segmention_for_test/unet_base/dataset/buccal_furcation_train/split101and20/aug'\n",
    "\n",
    "# for file_name in tqdm(os.listdir(path), total = len(os.listdir(path))):\n",
    "#     #print(file_name)\n",
    "#     if os.path.isdir(os.path.join(path, file_name)):\n",
    "#         print(os.path.join(path, file_name))\n",
    "#         #shutil.move(path, path)\n",
    "#         shutil.rmtree(os.path.join(path, file_name))"
   ]
  },
  {
   "cell_type": "code",
   "execution_count": null,
   "metadata": {},
   "outputs": [],
   "source": []
  },
  {
   "cell_type": "code",
   "execution_count": 11,
   "metadata": {},
   "outputs": [],
   "source": [
    "# import os \n",
    "# import shutil\n",
    "\n",
    "# from tqdm import tqdm\n",
    "# import glob\n",
    "# import random\n",
    "\n",
    "# #aiforge/tooth_xray_segmention_for_test/unet_base/dataset/buccal_furcation_train/label\n",
    "\n",
    "# file_list = glob.glob('/home/jingping/aiforge/tooth_xray_segmention_for_test/unet_base/dataset/buccal_furcation_train/split101and20/image/*.PNG')\n",
    "\n",
    "# dst = '/home/jingping/aiforge/tooth_xray_segmention_for_test/unet_base/dataset/buccal_furcation_train/split101and20/label'\n",
    "\n",
    "# for file_name in tqdm(file_list[:101], total = len(file_list[:101])):\n",
    "#     shutil.copyfile(file_name.replace('split101and20/image','label'), os.path.join(dst, file_name.split('/')[-1]))\n",
    "    "
   ]
  },
  {
   "cell_type": "code",
   "execution_count": null,
   "metadata": {},
   "outputs": [],
   "source": []
  }
 ],
 "metadata": {
  "kernelspec": {
   "display_name": "Python 3",
   "language": "python",
   "name": "python3"
  },
  "language_info": {
   "codemirror_mode": {
    "name": "ipython",
    "version": 3
   },
   "file_extension": ".py",
   "mimetype": "text/x-python",
   "name": "python",
   "nbconvert_exporter": "python",
   "pygments_lexer": "ipython3",
   "version": "3.6.9"
  },
  "widgets": {
   "application/vnd.jupyter.widget-state+json": {
    "state": {},
    "version_major": 2,
    "version_minor": 0
   }
  }
 },
 "nbformat": 4,
 "nbformat_minor": 4
}
