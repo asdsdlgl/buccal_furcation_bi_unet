{
 "cells": [
  {
   "cell_type": "code",
   "execution_count": 1,
   "metadata": {},
   "outputs": [
    {
     "name": "stderr",
     "output_type": "stream",
     "text": [
      "Using TensorFlow backend.\n",
      "/opt/conda/lib/python3.6/site-packages/pandas/core/nanops.py:38: UserWarning: The installed version of bottleneck 0.7.0 is not supported in pandas and will be not be used\n",
      "The minimum supported version is 1.0.0\n",
      "\n",
      "  ver=ver, min_ver=_MIN_BOTTLENECK_VERSION), UserWarning)\n"
     ]
    },
    {
     "data": {
      "text/plain": [
       "'2.0.0'"
      ]
     },
     "execution_count": 1,
     "metadata": {},
     "output_type": "execute_result"
    }
   ],
   "source": [
    "from model import *\n",
    "from data import *\n",
    "from datetime import datetime\n",
    "\n",
    "import tensorflow as tf\n",
    "tf.__version__"
   ]
  },
  {
   "cell_type": "code",
   "execution_count": 2,
   "metadata": {},
   "outputs": [],
   "source": [
    "test_folder = \"/root/notebooks/0858611-2/dental/dataset/20200602all_data/Data\"\n",
    "model_weight_path = \"/root/notebooks/0858611-2/tooth_xray_segmention/unet_base/model/model_weight/tooth_weights.hdf5\"\n",
    "result_folder = test_folder\n"
   ]
  },
  {
   "cell_type": "code",
   "execution_count": 3,
   "metadata": {},
   "outputs": [
    {
     "name": "stdout",
     "output_type": "stream",
     "text": [
      "6634\n",
      "/root/notebooks/0858611-2/dental/dataset/20200602all_data/Data/415134_1/415134_1 111210 x/NN_101112_095624_EB02B.PNG\n",
      "/root/notebooks/0858611-2/dental/dataset/20200602all_data/Data/415134_1/415134_1 111210 x/NN_101112_095638_EB012.PNG\n",
      "/root/notebooks/0858611-2/dental/dataset/20200602all_data/Data/415134_1/415134_1 111210 x/NN_101112_095644_EB01D.PNG\n",
      "/root/notebooks/0858611-2/dental/dataset/20200602all_data/Data/415134_1/415134_1 111210 x/NN_101112_101943_EB021.PNG\n",
      "/root/notebooks/0858611-2/dental/dataset/20200602all_data/Data/415134_1/415134_1 111210 x/NN_101112_095614_EB011.PNG\n",
      "/root/notebooks/0858611-2/dental/dataset/20200602all_data/Data/415134_1/415134_1 111210 x/NN_101112_095545_EB014.PNG\n",
      "/root/notebooks/0858611-2/dental/dataset/20200602all_data/Data/415134_1/415134_1 111210 x/NN_101112_095632_EB027.PNG\n",
      "/root/notebooks/0858611-2/dental/dataset/20200602all_data/Data/415134_1/415134_1 111210 x/NN_101112_095541_EB029.PNG\n",
      "/root/notebooks/0858611-2/dental/dataset/20200602all_data/Data/415134_1/415134_1 111210 x/NN_101112_095616_EB01B.PNG\n",
      "/root/notebooks/0858611-2/dental/dataset/20200602all_data/Data/415134_1/415134_1 111210 x/NN_FMS 20_101112_095511.PNG\n"
     ]
    }
   ],
   "source": [
    "import glob\n",
    "\n",
    "file_list = glob.glob('/root/notebooks/0858611-2/dental/dataset/20200602all_data/Data/*/*/*.PNG')\n",
    "print(len(file_list))\n",
    "for img in file_list[:10]:\n",
    "    if os.path.isfile(img):\n",
    "        print(img)\n",
    "    else:\n",
    "        print('not exist')"
   ]
  },
  {
   "cell_type": "code",
   "execution_count": 4,
   "metadata": {},
   "outputs": [],
   "source": [
    "test_folder = ''\n",
    "file_list =file_list"
   ]
  },
  {
   "cell_type": "code",
   "execution_count": 5,
   "metadata": {},
   "outputs": [
    {
     "name": "stderr",
     "output_type": "stream",
     "text": [
      "/root/notebooks/0858611-2/tooth_xray_segmention/unet_base/model/unet/model.py:55: UserWarning: Update your `Model` call to the Keras 2 API: `Model(inputs=Tensor(\"in..., outputs=Tensor(\"co...)`\n",
      "  model = Model(input = inputs, output = conv10)\n",
      "/opt/conda/lib/python3.6/site-packages/skimage/transform/_warps.py:105: UserWarning: The default mode, 'constant', will be changed to 'reflect' in skimage 0.15.\n",
      "  warn(\"The default mode, 'constant', will be changed to 'reflect' in \"\n",
      "/opt/conda/lib/python3.6/site-packages/skimage/transform/_warps.py:110: UserWarning: Anti-aliasing will be enabled by default in skimage 0.15 to avoid aliasing artifacts when down-sampling images.\n",
      "  warn(\"Anti-aliasing will be enabled by default in skimage 0.15 to \"\n"
     ]
    },
    {
     "name": "stdout",
     "output_type": "stream",
     "text": [
      "6634/6634 [==============================] - 198s 30ms/step\n"
     ]
    },
    {
     "name": "stderr",
     "output_type": "stream",
     "text": [
      "/opt/conda/lib/python3.6/site-packages/skimage/io/_io.py:140: UserWarning: /root/notebooks/0858611-2/dental/dataset/20200602all_data/Data/696236/696236 021919 x/NN_190219_152753_15C495.PNG is a low contrast image\n",
      "  warn('%s is a low contrast image' % fname)\n"
     ]
    }
   ],
   "source": [
    "testGene = testGenerator(test_folder,file_list)\n",
    "model = unet()\n",
    "model.load_weights(model_weight_path)\n",
    "results = model.predict_generator(testGene,len(file_list),verbose=1)\n",
    "saveResult_add_segment(result_folder,file_list,results)"
   ]
  },
  {
   "cell_type": "code",
   "execution_count": 6,
   "metadata": {},
   "outputs": [
    {
     "name": "stdout",
     "output_type": "stream",
     "text": [
      "/root/notebooks/0858611-2/dental/dataset/20200602all_data/Data\n"
     ]
    }
   ],
   "source": [
    "print(result_folder)"
   ]
  },
  {
   "cell_type": "code",
   "execution_count": null,
   "metadata": {},
   "outputs": [],
   "source": []
  }
 ],
 "metadata": {
  "kernelspec": {
   "display_name": "Python 3",
   "language": "python",
   "name": "python3"
  },
  "language_info": {
   "codemirror_mode": {
    "name": "ipython",
    "version": 3
   },
   "file_extension": ".py",
   "mimetype": "text/x-python",
   "name": "python",
   "nbconvert_exporter": "python",
   "pygments_lexer": "ipython3",
   "version": "3.6.7"
  }
 },
 "nbformat": 4,
 "nbformat_minor": 4
}
